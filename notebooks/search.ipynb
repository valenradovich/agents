{
 "cells": [
  {
   "cell_type": "code",
   "execution_count": null,
   "metadata": {},
   "outputs": [],
   "source": [
    "# https://app.tavily.com/home"
   ]
  },
  {
   "cell_type": "code",
   "execution_count": 2,
   "metadata": {},
   "outputs": [],
   "source": [
    "# getting the api key\n",
    "import os\n",
    "from dotenv import load_dotenv\n",
    "\n",
    "load_dotenv()\n",
    "\n",
    "TAVILY_API_KEY = os.getenv(\"TAVILY_API_KEY\")"
   ]
  },
  {
   "cell_type": "code",
   "execution_count": 6,
   "metadata": {},
   "outputs": [],
   "source": [
    "# Step 1. Instantiating your TavilyClient\n",
    "from tavily import TavilyClient\n",
    "\n",
    "client = TavilyClient(api_key=TAVILY_API_KEY)\n",
    "\n",
    "# Step 2. Executing a simple search query\n",
    "response = client.search(\"Who is Leo Messi?\")"
   ]
  },
  {
   "cell_type": "code",
   "execution_count": 7,
   "metadata": {},
   "outputs": [
    {
     "data": {
      "text/plain": [
       "{'query': 'Who is Leo Messi?',\n",
       " 'follow_up_questions': None,\n",
       " 'answer': None,\n",
       " 'images': [],\n",
       " 'results': [{'title': 'Leo Messi - Official FC Barcelona Website',\n",
       "   'url': 'https://www.fcbarcelona.com/en/card/2214377/leo-messi',\n",
       "   'content': \"Notifications Center\\nNotifications Center\\nFirst Team\\nClub\\nTickets & Museum\\nCulers\\nDownload the official FC Barcelona App\\nLeo Messi\\nLeo Messi's footballing career started in 1995 at Newell's Old Boys, where he played until the year 2000. Messi’s individual achievements are also unprecedented: six Ballon d’Or awards, six times Champions League top scorer, six times Golden Shoe winner, eight times ‘Pichichi’ (top scorer) in La Liga, Ballon d’Or winner at the 2014 World Cup, FIFA World Player of the Year in 2009 and FIFA The Best winner in 2019.\\n He has also played in six Copa Américas (2007, 2011, 2015, 2016, 2019, 2021), losing in the final in both 2015 and 2016 to Chile on penalties before finally claiming a major honour for his country with the win over Brazil in the 2021 final. In the summer of 2021 the love affair between FC Barcelona and Leo Messi came to an end and the Barça number 10 brought an end to his career which has been him become a life long legend for FC Barcelona.\\n Getting better every season, Messi and Barça won 35 trophies during the Argentine's time at the Club, including the six won in 2009 and the treble in 2015.\\n\",\n",
       "   'score': 0.98492736,\n",
       "   'raw_content': None},\n",
       "  {'title': 'Career of Lionel Messi - Wikipedia',\n",
       "   'url': 'https://en.wikipedia.org/wiki/Career_of_Lionel_Messi',\n",
       "   'content': \"- Barcelona's then assistant coach Henk ten Cate on Messi's first-team debut. During the 2003-04 season, his fourth with Barcelona, Lionel Messi rapidly progressed through the club's ranks, debuting for four youth teams in a single campaign. After being named player of the tournament in four international pre-season competitions with the Juveniles B, he played only one official match with ...\",\n",
       "   'score': 0.9107044,\n",
       "   'raw_content': None},\n",
       "  {'title': \"Lionel Messi | Biography, Barcelona, PSG, Ballon d'Or, Inter Miami ...\",\n",
       "   'url': 'https://www.britannica.com/biography/Lionel-Messi',\n",
       "   'content': 'In early 2009 Messi capped off a spectacular 2008–09 season by helping FC Barcelona capture the club’s first “treble” (winning three major European club titles in one season): the team won the La Liga championship, the Copa del Rey (Spain’s major domestic cup), and the Champions League title. Messi’s play continued to rapidly improve over the years, and by 2008 he was one of the most dominant players in the world, finishing second to Manchester United’s Cristiano Ronaldo in the voting for the 2008 Ballon d’Or. At the 2014 World Cup, Messi put on a dazzling display, scoring four goals and almost single-handedly propelling an offense-deficient Argentina team through the group stage and into the knockout rounds, where Argentina then advanced to the World Cup final for the first time in 24 years. After Argentina was defeated in the Copa final—the team’s third consecutive finals loss in a major tournament—Messi said that he was quitting the national team, but his short-lived “retirement” lasted less than two months before he announced his return to the Argentine team. Messi helped Barcelona capture another treble during the 2014–15 season, leading the team with 43 goals scored over the course of the campaign, which resulted in his fifth world player of the year honour.',\n",
       "   'score': 0.8749346,\n",
       "   'raw_content': None},\n",
       "  {'title': 'Lionel Messi: The life and times of the Barcelona, Paris Saint-Germain ...',\n",
       "   'url': 'https://www.nytimes.com/athletic/4783674/2023/08/18/lionel-messi-profile-soccer/',\n",
       "   'content': 'For Messi, it is major trophy number 44.. Despite turning 36 in June, he is as influential as ever. Here is the complete story of Lionel Andres Messi, widely regarded as one of the greatest ...',\n",
       "   'score': 0.87321484,\n",
       "   'raw_content': None},\n",
       "  {'title': 'Lionel Messi Biography',\n",
       "   'url': 'https://www.biographyonline.net/sport/football/lionel-messi.html',\n",
       "   'content': 'In the 2010 World Cup, Messi wore the number 10 shirt and played well to help Argentina reach the quarter-finals, but Messi struggled to score, and Argentina disappointingly lost 4-0 to Germany in the quarter-final. He is an incredible player, gigantic.”\\n– Gerd Muller\\nAt the start of 2013, in club football, Messi has scored 292 goals from a total of 359 appearances, and in international football, 31 goals from 76 appearances.\\n The decision was contentious and not in keeping with Messi’s style of play which is generally clean and in the spirit of fair play; he has very rarely been accused of diving.\\n (total Barca)\\n– Lionel Messi\\nAfter winning the Ballon d’Or for the fourth time in January 2013, Messi said:\\n“To tell you the truth this is really quite unbelievable. Messi major honours\\nBarcelona\\nArgentina\\nWealth and income\\nMessi has frequently been the target of other football clubs with big transfer budgets, but he has remained loyal to Barcelona FC.',\n",
       "   'score': 0.82375413,\n",
       "   'raw_content': None}],\n",
       " 'response_time': 2.12}"
      ]
     },
     "execution_count": 7,
     "metadata": {},
     "output_type": "execute_result"
    }
   ],
   "source": [
    "response"
   ]
  }
 ],
 "metadata": {
  "kernelspec": {
   "display_name": "agents",
   "language": "python",
   "name": "python3"
  },
  "language_info": {
   "codemirror_mode": {
    "name": "ipython",
    "version": 3
   },
   "file_extension": ".py",
   "mimetype": "text/x-python",
   "name": "python",
   "nbconvert_exporter": "python",
   "pygments_lexer": "ipython3",
   "version": "3.10.6"
  }
 },
 "nbformat": 4,
 "nbformat_minor": 2
}
