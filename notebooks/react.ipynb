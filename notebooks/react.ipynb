{
 "cells": [
  {
   "cell_type": "code",
   "execution_count": 1,
   "metadata": {},
   "outputs": [],
   "source": [
    "\n",
    "from abc import ABC, abstractmethod\n",
    "from typing import Any, Dict\n",
    "\n",
    "class Tool(ABC):\n",
    "    def __init__(self, name: str, description: str):\n",
    "        self.name = name\n",
    "        self.description = description\n",
    "\n",
    "    @abstractmethod\n",
    "    def __call__(self, input: Any) -> str:\n",
    "        pass\n",
    "\n",
    "    def get_info(self) -> Dict[str, str]:\n",
    "        return {\n",
    "            \"name\": self.name,\n",
    "            \"description\": self.description\n",
    "        }\n",
    "\n",
    "class InternetSearch(Tool):\n",
    "    def __init__(self):\n",
    "        super().__init__(\n",
    "            name=\"internet_search\",\n",
    "            description=\"Searches the internet for information. Input should be a search query.\"\n",
    "        )\n",
    "\n",
    "    def __call__(self, query: str) -> str:\n",
    "        # In a real implementation, this would use an actual search API\n",
    "        return f\"Search results for '{query}': [Simulated search results]\"\n",
    "\n",
    "class PlayMusic(Tool):\n",
    "    def __init__(self):\n",
    "        super().__init__(\n",
    "            name=\"play_music\",\n",
    "            description=\"Plays music on Spotify. Input should be a song name or artist.\"\n",
    "        )\n",
    "\n",
    "    def __call__(self, song_name: str) -> str:\n",
    "        # In a real implementation, this would interact with the Spotify API\n",
    "        return f\"Playing '{song_name}' on Spotify\"\n",
    "\n",
    "class GetWeather(Tool):\n",
    "    def __init__(self):\n",
    "        super().__init__(\n",
    "            name=\"get_weather\",\n",
    "            description=\"Retrieves weather information for a specific city. Input should be a city name.\"\n",
    "        )\n",
    "\n",
    "    def __call__(self, city_name: str) -> str:\n",
    "        # In a real implementation, this would use a weather API\n",
    "        return f\"Weather in {city_name}: Sunny, 22°C\"\n",
    "\n",
    "def get_all_tool_info(tools: list[Tool]) -> list[Dict[str, str]]:\n",
    "    return [tool.get_info() for tool in tools]"
   ]
  },
  {
   "cell_type": "code",
   "execution_count": 2,
   "metadata": {},
   "outputs": [
    {
     "name": "stdout",
     "output_type": "stream",
     "text": [
      "- internet_search: Searches the internet for information. Input should be a search query.\n",
      "- play_music: Plays music on Spotify. Input should be a song name or artist.\n",
      "- get_weather: Retrieves weather information for a specific city. Input should be a city name.\n"
     ]
    }
   ],
   "source": [
    "tools = [InternetSearch(), PlayMusic(), GetWeather()]\n",
    "\n",
    "for tool_info in get_all_tool_info(tools):\n",
    "    print(f\"- {tool_info['name']}: {tool_info['description']}\")"
   ]
  },
  {
   "cell_type": "code",
   "execution_count": 11,
   "metadata": {},
   "outputs": [],
   "source": [
    "import time\n",
    "import spotipy\n",
    "from spotipy.oauth2 import SpotifyOAuth\n",
    "from dotenv import load_dotenv\n",
    "import os\n",
    "\n",
    "load_dotenv()\n",
    "\n",
    "SPOTIFY_CLIENT_ID = os.getenv(\"SPOTIFY_CLIENT_ID\")\n",
    "SPOTIFY_CLIENT_SECRET = os.getenv(\"SPOTIFY_CLIENT_SECRET\")\n",
    "\n",
    "# Set up authentication\n",
    "scope = \"user-library-read user-read-playback-state user-modify-playback-state\"\n",
    "sp = spotipy.Spotify(auth_manager=SpotifyOAuth(scope=scope, client_id=SPOTIFY_CLIENT_ID, client_secret=SPOTIFY_CLIENT_SECRET, redirect_uri=\"http://localhost:8888/callback\"))\n",
    "\n",
    "def get_active_device():\n",
    "    devices = sp.devices()\n",
    "    print(\"Available devices:\")\n",
    "    for i, device in enumerate(devices['devices']):\n",
    "        print(f\"{i+1}. {device['name']} ({'Active' if device['is_active'] else 'Inactive'})\")\n",
    "    \n",
    "    if not devices['devices']:\n",
    "        return None\n",
    "    \n",
    "    choice = input(\"Enter the number of the device you want to use (or press Enter for the first one): \")\n",
    "    if choice.isdigit() and 1 <= int(choice) <= len(devices['devices']):\n",
    "        return devices['devices'][int(choice)-1]['id']\n",
    "    return devices['devices'][0]['id']\n",
    "\n",
    "import subprocess\n",
    "\n",
    "def search_and_play(query, type, retry=False):\n",
    "    print(f\"Searching for {type}: {query}\")\n",
    "    # Search for the item\n",
    "    results = sp.search(q=query, type=type)\n",
    "    \n",
    "    if len(results[f\"{type}s\"]['items']) == 0:\n",
    "        print(f\"No {type} found for the query: {query}\")\n",
    "        return\n",
    "    \n",
    "    # Get the first result\n",
    "    item = results[f\"{type}s\"]['items'][0]\n",
    "    item_name = item['name']\n",
    "    item_uri = item['uri']\n",
    "    \n",
    "    print(f\"Found {type}: {item_name}\")\n",
    "    \n",
    "    # Get available devices\n",
    "    devices = sp.devices()\n",
    "    if not devices['devices']:\n",
    "        if not retry:\n",
    "            print(\"No active devices found. Attempting to open Spotify...\")\n",
    "            subprocess.Popen(['spotify'], start_new_session=True)\n",
    "            print(\"Waiting for Spotify to start...\")\n",
    "            time.sleep(4)  # Wait to allow Spotify to start\n",
    "            return search_and_play(query, type, retry=True)\n",
    "        else:\n",
    "            print(\"Failed to find an active device after opening Spotify.\")\n",
    "            print(\"Please ensure Spotify is running and a device is active.\")\n",
    "            return\n",
    "    \n",
    "    # Use the first available device\n",
    "    device_id = devices['devices'][0]['id']\n",
    "    \n",
    "    # Start playback\n",
    "    try:\n",
    "        print(f\"Attempting to play on device: {device_id}\")\n",
    "        if type == 'track':\n",
    "            sp.start_playback(device_id=device_id, uris=[item_uri])\n",
    "        else:\n",
    "            sp.start_playback(device_id=device_id, context_uri=item_uri)\n",
    "        print(f\"Now playing: {item_name}\")\n",
    "    except spotipy.exceptions.SpotifyException as e:\n",
    "        print(f\"Error starting playback: {e}\")\n",
    "        print(\"This error may occur if Spotify is not active on the selected device.\")\n",
    "        print(\"Try manually starting playback on your device, then run this script again.\")\n",
    "    except Exception as e:\n",
    "        print(f\"An unexpected error occurred: {e}\")\n",
    "        print(\"Please check your internet connection and Spotify account status.\")"
   ]
  },
  {
   "cell_type": "code",
   "execution_count": 13,
   "metadata": {},
   "outputs": [
    {
     "name": "stdout",
     "output_type": "stream",
     "text": [
      "Searching for track: On me lil baby\n",
      "Found track: On Me\n",
      "No active devices found. Attempting to open Spotify...\n",
      "Waiting for Spotify to start...\n"
     ]
    },
    {
     "name": "stderr",
     "output_type": "stream",
     "text": [
      "Gtk-Message: 16:50:19.107: Not loading module \"atk-bridge\": The functionality is provided by GTK natively. Please try to not load it.\n"
     ]
    },
    {
     "name": "stdout",
     "output_type": "stream",
     "text": [
      "Searching for track: On me lil baby\n",
      "Found track: On Me\n",
      "Attempting to play on device: 773551dda2ddd213eb91b4264709a7dca199e68b\n",
      "Now playing: On Me\n"
     ]
    }
   ],
   "source": [
    "search_and_play(\"On me lil baby\", \"track\")\n",
    "#search_and_play(\"Vendido\", \"track\")"
   ]
  }
 ],
 "metadata": {
  "kernelspec": {
   "display_name": "agents",
   "language": "python",
   "name": "python3"
  },
  "language_info": {
   "codemirror_mode": {
    "name": "ipython",
    "version": 3
   },
   "file_extension": ".py",
   "mimetype": "text/x-python",
   "name": "python",
   "nbconvert_exporter": "python",
   "pygments_lexer": "ipython3",
   "version": "3.10.6"
  }
 },
 "nbformat": 4,
 "nbformat_minor": 2
}
