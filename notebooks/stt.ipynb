{
 "cells": [
  {
   "cell_type": "code",
   "execution_count": 1,
   "metadata": {},
   "outputs": [
    {
     "name": "stderr",
     "output_type": "stream",
     "text": [
      "/home/valenradovich/.pyenv/versions/3.10.6/envs/agents/lib/python3.10/site-packages/tqdm/auto.py:21: TqdmWarning: IProgress not found. Please update jupyter and ipywidgets. See https://ipywidgets.readthedocs.io/en/stable/user_install.html\n",
      "  from .autonotebook import tqdm as notebook_tqdm\n"
     ]
    }
   ],
   "source": [
    "import os\n",
    "import time\n",
    "import wave\n",
    "import pyaudio\n",
    "from faster_whisper import WhisperModel\n",
    "\n",
    "NEON_GREEN = '\\033[32m'\n",
    "RESET_COLOR = '\\033[0m'\n",
    "\n",
    "os.environ[\"KMP_DUPLICATE_LIB_OK\"]=\"TRUE\"\n",
    "def record_chunk(p, stream, file_path, chunk_length=1):\n",
    "    frames = []\n",
    "\n",
    "    for _ in range(0, int(16000 / 1024 * chunk_length)):\n",
    "        data = stream.read(1024)\n",
    "        frames.append(data)\n",
    "\n",
    "    wf = wave.open(file_path, 'wb')\n",
    "    wf.setnchannels(1)\n",
    "    wf.setsampwidth(p.get_sample_size(pyaudio.paInt16))\n",
    "    wf.setframerate(16000)\n",
    "    wf.writeframes(b''.join(frames))\n",
    "    wf.close()\n",
    "\n",
    "def transcribe_chunk(model, file_path):\n",
    "    segments, info = model.transcribe(file_path, beam_size=7)\n",
    "    transcription = ''.join(segment.text for segment in segments)\n",
    "    return transcription\n",
    "\n",
    "def main2():\n",
    "\n",
    "    model = WhisperModel(\"medium\", device=\"cuda\", compute_type=\"float16\")\n",
    "\n",
    "    p = pyaudio.PyAudio()\n",
    "\n",
    "    stream = p.open(format=pyaudio.paInt16, channels=1, rate=16000, input=True, frames_per_buffer=1024)\n",
    "\n",
    "    accumulated_transcription = \"\"\n",
    "\n",
    "    try:\n",
    "        while True:\n",
    "            chunk_file = \"temp_chunk.wav\"\n",
    "            record_chunk(p, stream, chunk_file)\n",
    "\n",
    "            transcription = transcribe_chunk(model, chunk_file)\n",
    "            print(NEON_GREEN + transcription + RESET_COLOR)\n",
    "\n",
    "            os.remove(chunk_file)\n",
    "\n",
    "            accumulated_transcription += transcription + \" \"\n",
    "\n",
    "    except KeyboardInterrupt:\n",
    "        print(\"Stopping...\")\n",
    "\n",
    "        with open(\"log.txt\", \"w\") as log_file:\n",
    "            log_file.write(accumulated_transcription)\n",
    "\n",
    "    finally:\n",
    "        print(\"LOG\" + accumulated_transcription)\n",
    "        stream.stop_stream()\n",
    "        stream.close()\n",
    "\n",
    "        p.terminate()\n",
    "\n",
    "\n",
    "if __name__ == \"__main__\":\n",
    "    main2()"
   ]
  },
  {
   "cell_type": "code",
   "execution_count": null,
   "metadata": {},
   "outputs": [],
   "source": [
    "from faster_whisper import WhisperModel, BatchedInferencePipeline\n",
    "\n",
    "model_size = 'distil-large-v3'\n",
    "\n",
    "model = WhisperModel(model_size, device=\"cuda\", compute_type=\"float16\")\n",
    "batched_model = BatchedInferencePipeline(model=model)\n",
    "segments, info = batched_model.transcribe(\"audio.mp3\", batch_size=16)\n",
    "\n",
    "for segment in segments:\n",
    "    print(\"[%.2fs -> %.2fs] %s\" % (segment.start, segment.end, segment.text))"
   ]
  }
 ],
 "metadata": {
  "kernelspec": {
   "display_name": "agents",
   "language": "python",
   "name": "python3"
  },
  "language_info": {
   "codemirror_mode": {
    "name": "ipython",
    "version": 3
   },
   "file_extension": ".py",
   "mimetype": "text/x-python",
   "name": "python",
   "nbconvert_exporter": "python",
   "pygments_lexer": "ipython3",
   "version": "3.10.6"
  }
 },
 "nbformat": 4,
 "nbformat_minor": 2
}
