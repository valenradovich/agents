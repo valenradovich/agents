{
 "cells": [
  {
   "cell_type": "code",
   "execution_count": null,
   "metadata": {},
   "outputs": [],
   "source": [
    "# pip install --upgrade google-api-python-client google-auth-httplib2 google-auth-oauthlib"
   ]
  },
  {
   "cell_type": "code",
   "execution_count": 12,
   "metadata": {},
   "outputs": [
    {
     "name": "stdout",
     "output_type": "stream",
     "text": [
      "today is 2024-09-29 and the time is 20:30:31\n"
     ]
    }
   ],
   "source": [
    "import time\n",
    "\n",
    "print(f'today is {time.strftime(\"%Y-%m-%d\")} and the time is {time.strftime(\"%H:%M:%S\")}')"
   ]
  },
  {
   "cell_type": "code",
   "execution_count": 15,
   "metadata": {},
   "outputs": [],
   "source": [
    "import os\n",
    "from google.oauth2.credentials import Credentials\n",
    "from googleapiclient.discovery import build\n",
    "from google.auth.transport.requests import Request\n",
    "from google_auth_oauthlib.flow import InstalledAppFlow\n",
    "from datetime import datetime\n",
    "\n",
    "SCOPES = ['https://www.googleapis.com/auth/calendar']\n",
    "\n",
    "def get_calendar_service():\n",
    "    creds = None\n",
    "    if os.path.exists('token.json'):\n",
    "        creds = Credentials.from_authorized_user_file('token.json', SCOPES)\n",
    "    if not creds or not creds.valid:\n",
    "        if creds and creds.expired and creds.refresh_token:\n",
    "            creds.refresh(Request())\n",
    "        else:\n",
    "            flow = InstalledAppFlow.from_client_secrets_file('credentials.json', SCOPES)\n",
    "            creds = flow.run_local_server(port=0)\n",
    "        with open('token.json', 'w') as token:\n",
    "            token.write(creds.to_json())\n",
    "    return build('calendar', 'v3', credentials=creds)\n",
    "\n",
    "def google_calendar_crud(action, event_details=None, event_id=None):\n",
    "    service = get_calendar_service()\n",
    "    if action == 'create':\n",
    "        event = service.events().insert(calendarId='primary', body=event_details).execute()\n",
    "        return f\"Event created: {event.get('htmlLink')}\"\n",
    "\n",
    "    elif action == 'update':\n",
    "        updated_event = service.events().update(calendarId='primary', eventId=event_id, body=event_details).execute()\n",
    "        return f\"Event updated: {updated_event['updated']}\"\n",
    "\n",
    "    elif action == 'delete':\n",
    "        service.events().delete(calendarId='primary', eventId=event_id).execute()\n",
    "        return \"Event deleted\"\n",
    "\n",
    "    else:\n",
    "        return \"Invalid action. Use 'create', 'update', or 'delete'.\"\n",
    "\n",
    "\n",
    "def get_events_for_date(year, month, day):\n",
    "    service = get_calendar_service()\n",
    "    date = datetime(year, month, day)\n",
    "    start = date.replace(hour=0, minute=0, second=0)\n",
    "    end = date.replace(hour=23, minute=59, second=59)\n",
    "    events_result = service.events().list(\n",
    "        calendarId='primary',\n",
    "        timeMin=start.isoformat() + 'Z',\n",
    "        timeMax=end.isoformat() + 'Z',\n",
    "        singleEvents=True,\n",
    "        orderBy='startTime'\n",
    "    ).execute()\n",
    "    return events_result.get('items', [])\n",
    "\n",
    "def find_event_in_range(event_name, start_date, end_date):\n",
    "    service = get_calendar_service()\n",
    "    events_result = service.events().list(\n",
    "        calendarId='primary',\n",
    "        timeMin=start_date.isoformat() + 'Z',\n",
    "        timeMax=end_date.isoformat() + 'Z',\n",
    "        q=event_name,\n",
    "        singleEvents=True,\n",
    "        orderBy='startTime'\n",
    "    ).execute()\n",
    "    return events_result.get('items', [])\n"
   ]
  },
  {
   "cell_type": "code",
   "execution_count": 10,
   "metadata": {},
   "outputs": [
    {
     "name": "stdout",
     "output_type": "stream",
     "text": [
      "Please visit this URL to authorize this application: https://accounts.google.com/o/oauth2/auth?response_type=code&client_id=1017881126609-q28fvovohc5qq73ud4j6vmavckij3e8f.apps.googleusercontent.com&redirect_uri=http%3A%2F%2Flocalhost%3A42401%2F&scope=https%3A%2F%2Fwww.googleapis.com%2Fauth%2Fcalendar&state=94slnduZYU9ktb9vdXBJdDiDA5k0Jh&access_type=offline\n"
     ]
    },
    {
     "data": {
      "text/plain": [
       "'Event created: https://www.google.com/calendar/event?eid=dTV0djdnaTV2YTVqY3JlMzg0bHVoZnM5aWcgZmVybmFuZGV6cmFkb3ZpY2hAbQ'"
      ]
     },
     "execution_count": 10,
     "metadata": {},
     "output_type": "execute_result"
    }
   ],
   "source": [
    "# new event example\n",
    "event_details = {\n",
    "    'summary': 'Test Event',\n",
    "    'description': 'This is a test event',\n",
    "    'start': {'dateTime': '2024-05-01T10:00:00', 'timeZone': 'America/New_York'},\n",
    "    'end': {'dateTime': '2024-05-01T11:00:00', 'timeZone': 'America/New_York'}\n",
    "}\n",
    "google_calendar_crud('create', event_details)\n",
    "\n",
    "# update event example\n",
    "event_details = {\n",
    "    'summary': 'Updated Event',\n",
    "    'description': 'This is an updated event',\n",
    "    'start': {'dateTime': '2024-05-01T12:00:00', 'timeZone': 'America/New_York'},\n",
    "    'end': {'dateTime': '2024-05-01T13:00:00', 'timeZone': 'America/New_York'}\n",
    "}\n",
    "google_calendar_crud('update', event_details, event_id='1234567890')\n",
    "\n",
    "# delete event example\n",
    "google_calendar_crud('delete', event_id='1234567890')"
   ]
  },
  {
   "cell_type": "code",
   "execution_count": 13,
   "metadata": {},
   "outputs": [
    {
     "name": "stdout",
     "output_type": "stream",
     "text": [
      "Events on October 17, 2024: [{'kind': 'calendar#event', 'etag': '\"3431736202312000\"', 'id': 'g8rk4pab21o6o45eec1r038f04', 'status': 'confirmed', 'htmlLink': 'https://www.google.com/calendar/event?eid=ZzhyazRwYWIyMW82bzQ1ZWVjMXIwMzhmMDQgZmVybmFuZGV6cmFkb3ZpY2hAbQ', 'created': '2024-05-16T14:01:41.000Z', 'updated': '2024-05-16T14:01:41.156Z', 'summary': 'Dentista', 'creator': {'email': 'fernandezradovich@gmail.com', 'self': True}, 'organizer': {'email': 'fernandezradovich@gmail.com', 'self': True}, 'start': {'dateTime': '2024-10-17T08:30:00-03:00', 'timeZone': 'America/Argentina/Buenos_Aires'}, 'end': {'dateTime': '2024-10-17T09:30:00-03:00', 'timeZone': 'America/Argentina/Buenos_Aires'}, 'iCalUID': 'g8rk4pab21o6o45eec1r038f04@google.com', 'sequence': 0, 'reminders': {'useDefault': True}, 'eventType': 'default'}]\n",
      "2\n",
      "dict_keys(['kind', 'etag', 'id', 'status', 'htmlLink', 'created', 'updated', 'summary', 'creator', 'organizer', 'start', 'end', 'iCalUID', 'sequence', 'reminders', 'eventType'])\n"
     ]
    }
   ],
   "source": [
    "from datetime import timedelta\n",
    "\n",
    "# Example usage\n",
    "if __name__ == '__main__':\n",
    "       # Check for events on a specific date\n",
    "    events = get_events_for_date(2024, 10, 17)\n",
    "    print(f\"Events on October 17, 2024: {events}\")\n",
    "\n",
    "    # Find an event called what you want in the next X days\n",
    "    start = datetime.now()\n",
    "    end = start + timedelta(days=30)\n",
    "    events = find_event_in_range(\"\", start, end)\n",
    "    print(len(events))\n",
    "    print(events[0].keys())\n"
   ]
  },
  {
   "cell_type": "code",
   "execution_count": 14,
   "metadata": {},
   "outputs": [
    {
     "data": {
      "text/plain": [
       "[{'kind': 'calendar#event',\n",
       "  'etag': '\"3455400885910000\"',\n",
       "  'id': '0052vv3ahfmqo0h4cedqdpgrmo',\n",
       "  'status': 'confirmed',\n",
       "  'htmlLink': 'https://www.google.com/calendar/event?eid=MDA1MnZ2M2FoZm1xbzBoNGNlZHFkcGdybW8gZmVybmFuZGV6cmFkb3ZpY2hAbQ',\n",
       "  'created': '2024-09-30T12:47:22.000Z',\n",
       "  'updated': '2024-09-30T12:47:22.955Z',\n",
       "  'summary': 'some random enve',\n",
       "  'creator': {'email': 'fernandezradovich@gmail.com', 'self': True},\n",
       "  'organizer': {'email': 'fernandezradovich@gmail.com', 'self': True},\n",
       "  'start': {'dateTime': '2024-10-06T10:00:00-03:00',\n",
       "   'timeZone': 'America/Argentina/Buenos_Aires'},\n",
       "  'end': {'dateTime': '2024-10-06T11:00:00-03:00',\n",
       "   'timeZone': 'America/Argentina/Buenos_Aires'},\n",
       "  'iCalUID': '0052vv3ahfmqo0h4cedqdpgrmo@google.com',\n",
       "  'sequence': 0,\n",
       "  'reminders': {'useDefault': True},\n",
       "  'eventType': 'default'},\n",
       " {'kind': 'calendar#event',\n",
       "  'etag': '\"3431736202312000\"',\n",
       "  'id': 'g8rk4pab21o6o45eec1r038f04',\n",
       "  'status': 'confirmed',\n",
       "  'htmlLink': 'https://www.google.com/calendar/event?eid=ZzhyazRwYWIyMW82bzQ1ZWVjMXIwMzhmMDQgZmVybmFuZGV6cmFkb3ZpY2hAbQ',\n",
       "  'created': '2024-05-16T14:01:41.000Z',\n",
       "  'updated': '2024-05-16T14:01:41.156Z',\n",
       "  'summary': 'Dentista',\n",
       "  'creator': {'email': 'fernandezradovich@gmail.com', 'self': True},\n",
       "  'organizer': {'email': 'fernandezradovich@gmail.com', 'self': True},\n",
       "  'start': {'dateTime': '2024-10-17T08:30:00-03:00',\n",
       "   'timeZone': 'America/Argentina/Buenos_Aires'},\n",
       "  'end': {'dateTime': '2024-10-17T09:30:00-03:00',\n",
       "   'timeZone': 'America/Argentina/Buenos_Aires'},\n",
       "  'iCalUID': 'g8rk4pab21o6o45eec1r038f04@google.com',\n",
       "  'sequence': 0,\n",
       "  'reminders': {'useDefault': True},\n",
       "  'eventType': 'default'}]"
      ]
     },
     "execution_count": 14,
     "metadata": {},
     "output_type": "execute_result"
    }
   ],
   "source": [
    "events"
   ]
  }
 ],
 "metadata": {
  "kernelspec": {
   "display_name": "agents",
   "language": "python",
   "name": "python3"
  },
  "language_info": {
   "codemirror_mode": {
    "name": "ipython",
    "version": 3
   },
   "file_extension": ".py",
   "mimetype": "text/x-python",
   "name": "python",
   "nbconvert_exporter": "python",
   "pygments_lexer": "ipython3",
   "version": "3.10.12"
  }
 },
 "nbformat": 4,
 "nbformat_minor": 2
}
